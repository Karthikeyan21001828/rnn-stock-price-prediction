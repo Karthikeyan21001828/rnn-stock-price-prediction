{
  "cells": [
    {
      "cell_type": "code",
      "source": [
        "import numpy as np\n",
        "import matplotlib.pyplot as plt\n",
        "import pandas as pd\n",
        "from sklearn.preprocessing import MinMaxScaler\n",
        "from keras import layers\n",
        "from keras.models import Sequential"
      ],
      "metadata": {
        "id": "r7udGGe9Hhxo"
      },
      "execution_count": 1,
      "outputs": []
    },
    {
      "cell_type": "code",
      "source": [
        "dataset_train = pd.read_csv('trainset.csv')\n",
        "dataset_train.columns"
      ],
      "metadata": {
        "colab": {
          "base_uri": "https://localhost:8080/"
        },
        "id": "3nTqyCaCIJJe",
        "outputId": "e9202674-d6cb-4f14-a5fd-f96079bbf5c1"
      },
      "execution_count": 3,
      "outputs": [
        {
          "output_type": "execute_result",
          "data": {
            "text/plain": [
              "Index(['Date', 'Open', 'High', 'Low', 'Close', 'Adj Close', 'Volume'], dtype='object')"
            ]
          },
          "metadata": {},
          "execution_count": 3
        }
      ]
    },
    {
      "cell_type": "code",
      "source": [
        "dataset_train.head()"
      ],
      "metadata": {
        "colab": {
          "base_uri": "https://localhost:8080/",
          "height": 206
        },
        "id": "Ct4CYFq8IOZW",
        "outputId": "8a9d5960-0140-4e36-8f87-c90039c35607"
      },
      "execution_count": 4,
      "outputs": [
        {
          "output_type": "execute_result",
          "data": {
            "text/plain": [
              "         Date        Open        High         Low       Close   Adj Close  \\\n",
              "0  2013-01-02  357.385559  361.151062  355.959839  359.288177  359.288177   \n",
              "1  2013-01-03  360.122742  363.600128  358.031342  359.496826  359.496826   \n",
              "2  2013-01-04  362.313507  368.339294  361.488861  366.600616  366.600616   \n",
              "3  2013-01-07  365.348755  367.301056  362.929504  365.001007  365.001007   \n",
              "4  2013-01-08  365.393463  365.771027  359.874359  364.280701  364.280701   \n",
              "\n",
              "    Volume  \n",
              "0  5115500  \n",
              "1  4666500  \n",
              "2  5562800  \n",
              "3  3332900  \n",
              "4  3373900  "
            ],
            "text/html": [
              "\n",
              "  <div id=\"df-7a9d1240-a4cc-449c-81c2-d3b95f411a8c\" class=\"colab-df-container\">\n",
              "    <div>\n",
              "<style scoped>\n",
              "    .dataframe tbody tr th:only-of-type {\n",
              "        vertical-align: middle;\n",
              "    }\n",
              "\n",
              "    .dataframe tbody tr th {\n",
              "        vertical-align: top;\n",
              "    }\n",
              "\n",
              "    .dataframe thead th {\n",
              "        text-align: right;\n",
              "    }\n",
              "</style>\n",
              "<table border=\"1\" class=\"dataframe\">\n",
              "  <thead>\n",
              "    <tr style=\"text-align: right;\">\n",
              "      <th></th>\n",
              "      <th>Date</th>\n",
              "      <th>Open</th>\n",
              "      <th>High</th>\n",
              "      <th>Low</th>\n",
              "      <th>Close</th>\n",
              "      <th>Adj Close</th>\n",
              "      <th>Volume</th>\n",
              "    </tr>\n",
              "  </thead>\n",
              "  <tbody>\n",
              "    <tr>\n",
              "      <th>0</th>\n",
              "      <td>2013-01-02</td>\n",
              "      <td>357.385559</td>\n",
              "      <td>361.151062</td>\n",
              "      <td>355.959839</td>\n",
              "      <td>359.288177</td>\n",
              "      <td>359.288177</td>\n",
              "      <td>5115500</td>\n",
              "    </tr>\n",
              "    <tr>\n",
              "      <th>1</th>\n",
              "      <td>2013-01-03</td>\n",
              "      <td>360.122742</td>\n",
              "      <td>363.600128</td>\n",
              "      <td>358.031342</td>\n",
              "      <td>359.496826</td>\n",
              "      <td>359.496826</td>\n",
              "      <td>4666500</td>\n",
              "    </tr>\n",
              "    <tr>\n",
              "      <th>2</th>\n",
              "      <td>2013-01-04</td>\n",
              "      <td>362.313507</td>\n",
              "      <td>368.339294</td>\n",
              "      <td>361.488861</td>\n",
              "      <td>366.600616</td>\n",
              "      <td>366.600616</td>\n",
              "      <td>5562800</td>\n",
              "    </tr>\n",
              "    <tr>\n",
              "      <th>3</th>\n",
              "      <td>2013-01-07</td>\n",
              "      <td>365.348755</td>\n",
              "      <td>367.301056</td>\n",
              "      <td>362.929504</td>\n",
              "      <td>365.001007</td>\n",
              "      <td>365.001007</td>\n",
              "      <td>3332900</td>\n",
              "    </tr>\n",
              "    <tr>\n",
              "      <th>4</th>\n",
              "      <td>2013-01-08</td>\n",
              "      <td>365.393463</td>\n",
              "      <td>365.771027</td>\n",
              "      <td>359.874359</td>\n",
              "      <td>364.280701</td>\n",
              "      <td>364.280701</td>\n",
              "      <td>3373900</td>\n",
              "    </tr>\n",
              "  </tbody>\n",
              "</table>\n",
              "</div>\n",
              "    <div class=\"colab-df-buttons\">\n",
              "\n",
              "  <div class=\"colab-df-container\">\n",
              "    <button class=\"colab-df-convert\" onclick=\"convertToInteractive('df-7a9d1240-a4cc-449c-81c2-d3b95f411a8c')\"\n",
              "            title=\"Convert this dataframe to an interactive table.\"\n",
              "            style=\"display:none;\">\n",
              "\n",
              "  <svg xmlns=\"http://www.w3.org/2000/svg\" height=\"24px\" viewBox=\"0 -960 960 960\">\n",
              "    <path d=\"M120-120v-720h720v720H120Zm60-500h600v-160H180v160Zm220 220h160v-160H400v160Zm0 220h160v-160H400v160ZM180-400h160v-160H180v160Zm440 0h160v-160H620v160ZM180-180h160v-160H180v160Zm440 0h160v-160H620v160Z\"/>\n",
              "  </svg>\n",
              "    </button>\n",
              "\n",
              "  <style>\n",
              "    .colab-df-container {\n",
              "      display:flex;\n",
              "      gap: 12px;\n",
              "    }\n",
              "\n",
              "    .colab-df-convert {\n",
              "      background-color: #E8F0FE;\n",
              "      border: none;\n",
              "      border-radius: 50%;\n",
              "      cursor: pointer;\n",
              "      display: none;\n",
              "      fill: #1967D2;\n",
              "      height: 32px;\n",
              "      padding: 0 0 0 0;\n",
              "      width: 32px;\n",
              "    }\n",
              "\n",
              "    .colab-df-convert:hover {\n",
              "      background-color: #E2EBFA;\n",
              "      box-shadow: 0px 1px 2px rgba(60, 64, 67, 0.3), 0px 1px 3px 1px rgba(60, 64, 67, 0.15);\n",
              "      fill: #174EA6;\n",
              "    }\n",
              "\n",
              "    .colab-df-buttons div {\n",
              "      margin-bottom: 4px;\n",
              "    }\n",
              "\n",
              "    [theme=dark] .colab-df-convert {\n",
              "      background-color: #3B4455;\n",
              "      fill: #D2E3FC;\n",
              "    }\n",
              "\n",
              "    [theme=dark] .colab-df-convert:hover {\n",
              "      background-color: #434B5C;\n",
              "      box-shadow: 0px 1px 3px 1px rgba(0, 0, 0, 0.15);\n",
              "      filter: drop-shadow(0px 1px 2px rgba(0, 0, 0, 0.3));\n",
              "      fill: #FFFFFF;\n",
              "    }\n",
              "  </style>\n",
              "\n",
              "    <script>\n",
              "      const buttonEl =\n",
              "        document.querySelector('#df-7a9d1240-a4cc-449c-81c2-d3b95f411a8c button.colab-df-convert');\n",
              "      buttonEl.style.display =\n",
              "        google.colab.kernel.accessAllowed ? 'block' : 'none';\n",
              "\n",
              "      async function convertToInteractive(key) {\n",
              "        const element = document.querySelector('#df-7a9d1240-a4cc-449c-81c2-d3b95f411a8c');\n",
              "        const dataTable =\n",
              "          await google.colab.kernel.invokeFunction('convertToInteractive',\n",
              "                                                    [key], {});\n",
              "        if (!dataTable) return;\n",
              "\n",
              "        const docLinkHtml = 'Like what you see? Visit the ' +\n",
              "          '<a target=\"_blank\" href=https://colab.research.google.com/notebooks/data_table.ipynb>data table notebook</a>'\n",
              "          + ' to learn more about interactive tables.';\n",
              "        element.innerHTML = '';\n",
              "        dataTable['output_type'] = 'display_data';\n",
              "        await google.colab.output.renderOutput(dataTable, element);\n",
              "        const docLink = document.createElement('div');\n",
              "        docLink.innerHTML = docLinkHtml;\n",
              "        element.appendChild(docLink);\n",
              "      }\n",
              "    </script>\n",
              "  </div>\n",
              "\n",
              "\n",
              "<div id=\"df-86940435-b8df-49ed-8db0-3f36e859a7d3\">\n",
              "  <button class=\"colab-df-quickchart\" onclick=\"quickchart('df-86940435-b8df-49ed-8db0-3f36e859a7d3')\"\n",
              "            title=\"Suggest charts\"\n",
              "            style=\"display:none;\">\n",
              "\n",
              "<svg xmlns=\"http://www.w3.org/2000/svg\" height=\"24px\"viewBox=\"0 0 24 24\"\n",
              "     width=\"24px\">\n",
              "    <g>\n",
              "        <path d=\"M19 3H5c-1.1 0-2 .9-2 2v14c0 1.1.9 2 2 2h14c1.1 0 2-.9 2-2V5c0-1.1-.9-2-2-2zM9 17H7v-7h2v7zm4 0h-2V7h2v10zm4 0h-2v-4h2v4z\"/>\n",
              "    </g>\n",
              "</svg>\n",
              "  </button>\n",
              "\n",
              "<style>\n",
              "  .colab-df-quickchart {\n",
              "      --bg-color: #E8F0FE;\n",
              "      --fill-color: #1967D2;\n",
              "      --hover-bg-color: #E2EBFA;\n",
              "      --hover-fill-color: #174EA6;\n",
              "      --disabled-fill-color: #AAA;\n",
              "      --disabled-bg-color: #DDD;\n",
              "  }\n",
              "\n",
              "  [theme=dark] .colab-df-quickchart {\n",
              "      --bg-color: #3B4455;\n",
              "      --fill-color: #D2E3FC;\n",
              "      --hover-bg-color: #434B5C;\n",
              "      --hover-fill-color: #FFFFFF;\n",
              "      --disabled-bg-color: #3B4455;\n",
              "      --disabled-fill-color: #666;\n",
              "  }\n",
              "\n",
              "  .colab-df-quickchart {\n",
              "    background-color: var(--bg-color);\n",
              "    border: none;\n",
              "    border-radius: 50%;\n",
              "    cursor: pointer;\n",
              "    display: none;\n",
              "    fill: var(--fill-color);\n",
              "    height: 32px;\n",
              "    padding: 0;\n",
              "    width: 32px;\n",
              "  }\n",
              "\n",
              "  .colab-df-quickchart:hover {\n",
              "    background-color: var(--hover-bg-color);\n",
              "    box-shadow: 0 1px 2px rgba(60, 64, 67, 0.3), 0 1px 3px 1px rgba(60, 64, 67, 0.15);\n",
              "    fill: var(--button-hover-fill-color);\n",
              "  }\n",
              "\n",
              "  .colab-df-quickchart-complete:disabled,\n",
              "  .colab-df-quickchart-complete:disabled:hover {\n",
              "    background-color: var(--disabled-bg-color);\n",
              "    fill: var(--disabled-fill-color);\n",
              "    box-shadow: none;\n",
              "  }\n",
              "\n",
              "  .colab-df-spinner {\n",
              "    border: 2px solid var(--fill-color);\n",
              "    border-color: transparent;\n",
              "    border-bottom-color: var(--fill-color);\n",
              "    animation:\n",
              "      spin 1s steps(1) infinite;\n",
              "  }\n",
              "\n",
              "  @keyframes spin {\n",
              "    0% {\n",
              "      border-color: transparent;\n",
              "      border-bottom-color: var(--fill-color);\n",
              "      border-left-color: var(--fill-color);\n",
              "    }\n",
              "    20% {\n",
              "      border-color: transparent;\n",
              "      border-left-color: var(--fill-color);\n",
              "      border-top-color: var(--fill-color);\n",
              "    }\n",
              "    30% {\n",
              "      border-color: transparent;\n",
              "      border-left-color: var(--fill-color);\n",
              "      border-top-color: var(--fill-color);\n",
              "      border-right-color: var(--fill-color);\n",
              "    }\n",
              "    40% {\n",
              "      border-color: transparent;\n",
              "      border-right-color: var(--fill-color);\n",
              "      border-top-color: var(--fill-color);\n",
              "    }\n",
              "    60% {\n",
              "      border-color: transparent;\n",
              "      border-right-color: var(--fill-color);\n",
              "    }\n",
              "    80% {\n",
              "      border-color: transparent;\n",
              "      border-right-color: var(--fill-color);\n",
              "      border-bottom-color: var(--fill-color);\n",
              "    }\n",
              "    90% {\n",
              "      border-color: transparent;\n",
              "      border-bottom-color: var(--fill-color);\n",
              "    }\n",
              "  }\n",
              "</style>\n",
              "\n",
              "  <script>\n",
              "    async function quickchart(key) {\n",
              "      const quickchartButtonEl =\n",
              "        document.querySelector('#' + key + ' button');\n",
              "      quickchartButtonEl.disabled = true;  // To prevent multiple clicks.\n",
              "      quickchartButtonEl.classList.add('colab-df-spinner');\n",
              "      try {\n",
              "        const charts = await google.colab.kernel.invokeFunction(\n",
              "            'suggestCharts', [key], {});\n",
              "      } catch (error) {\n",
              "        console.error('Error during call to suggestCharts:', error);\n",
              "      }\n",
              "      quickchartButtonEl.classList.remove('colab-df-spinner');\n",
              "      quickchartButtonEl.classList.add('colab-df-quickchart-complete');\n",
              "    }\n",
              "    (() => {\n",
              "      let quickchartButtonEl =\n",
              "        document.querySelector('#df-86940435-b8df-49ed-8db0-3f36e859a7d3 button');\n",
              "      quickchartButtonEl.style.display =\n",
              "        google.colab.kernel.accessAllowed ? 'block' : 'none';\n",
              "    })();\n",
              "  </script>\n",
              "</div>\n",
              "\n",
              "    </div>\n",
              "  </div>\n"
            ],
            "application/vnd.google.colaboratory.intrinsic+json": {
              "type": "dataframe",
              "variable_name": "dataset_train",
              "summary": "{\n  \"name\": \"dataset_train\",\n  \"rows\": 1259,\n  \"fields\": [\n    {\n      \"column\": \"Date\",\n      \"properties\": {\n        \"dtype\": \"object\",\n        \"num_unique_values\": 1259,\n        \"samples\": [\n          \"2013-04-23\",\n          \"2017-01-30\",\n          \"2013-03-06\"\n        ],\n        \"semantic_type\": \"\",\n        \"description\": \"\"\n      }\n    },\n    {\n      \"column\": \"Open\",\n      \"properties\": {\n        \"dtype\": \"number\",\n        \"std\": 175.63057351209417,\n        \"min\": 350.053253,\n        \"max\": 1075.199951,\n        \"num_unique_values\": 1228,\n        \"samples\": [\n          727.580017,\n          524.118103,\n          553.40564\n        ],\n        \"semantic_type\": \"\",\n        \"description\": \"\"\n      }\n    },\n    {\n      \"column\": \"High\",\n      \"properties\": {\n        \"dtype\": \"number\",\n        \"std\": 176.62741611717948,\n        \"min\": 350.391052,\n        \"max\": 1078.48999,\n        \"num_unique_values\": 1239,\n        \"samples\": [\n          580.309143,\n          577.489014,\n          517.056946\n        ],\n        \"semantic_type\": \"\",\n        \"description\": \"\"\n      }\n    },\n    {\n      \"column\": \"Low\",\n      \"properties\": {\n        \"dtype\": \"number\",\n        \"std\": 174.73281352959697,\n        \"min\": 345.512787,\n        \"max\": 1063.550049,\n        \"num_unique_values\": 1240,\n        \"samples\": [\n          576.052551,\n          568.403076,\n          518.469177\n        ],\n        \"semantic_type\": \"\",\n        \"description\": \"\"\n      }\n    },\n    {\n      \"column\": \"Close\",\n      \"properties\": {\n        \"dtype\": \"number\",\n        \"std\": 175.82099273815913,\n        \"min\": 349.164032,\n        \"max\": 1077.140015,\n        \"num_unique_values\": 1245,\n        \"samples\": [\n          749.460022,\n          557.812866,\n          927.330017\n        ],\n        \"semantic_type\": \"\",\n        \"description\": \"\"\n      }\n    },\n    {\n      \"column\": \"Adj Close\",\n      \"properties\": {\n        \"dtype\": \"number\",\n        \"std\": 175.82099273815913,\n        \"min\": 349.164032,\n        \"max\": 1077.140015,\n        \"num_unique_values\": 1245,\n        \"samples\": [\n          749.460022,\n          557.812866,\n          927.330017\n        ],\n        \"semantic_type\": \"\",\n        \"description\": \"\"\n      }\n    },\n    {\n      \"column\": \"Volume\",\n      \"properties\": {\n        \"dtype\": \"number\",\n        \"std\": 1672159,\n        \"min\": 7900,\n        \"max\": 23283100,\n        \"num_unique_values\": 1228,\n        \"samples\": [\n          1837200,\n          2000000,\n          1477800\n        ],\n        \"semantic_type\": \"\",\n        \"description\": \"\"\n      }\n    }\n  ]\n}"
            }
          },
          "metadata": {},
          "execution_count": 4
        }
      ]
    },
    {
      "cell_type": "code",
      "source": [
        "train_set = dataset_train.iloc[:,1:2].values\n",
        "type(train_set)"
      ],
      "metadata": {
        "colab": {
          "base_uri": "https://localhost:8080/"
        },
        "id": "dRSA4H1tIdcU",
        "outputId": "ce774fe3-9ed6-4449-a44c-b90b3269bba0"
      },
      "execution_count": 5,
      "outputs": [
        {
          "output_type": "execute_result",
          "data": {
            "text/plain": [
              "numpy.ndarray"
            ]
          },
          "metadata": {},
          "execution_count": 5
        }
      ]
    },
    {
      "cell_type": "code",
      "source": [
        "train_set.shape"
      ],
      "metadata": {
        "colab": {
          "base_uri": "https://localhost:8080/"
        },
        "id": "oKj5wzSvIhNO",
        "outputId": "7918ade5-9de6-40e8-8a90-70a6517d9c0b"
      },
      "execution_count": 6,
      "outputs": [
        {
          "output_type": "execute_result",
          "data": {
            "text/plain": [
              "(1259, 1)"
            ]
          },
          "metadata": {},
          "execution_count": 6
        }
      ]
    },
    {
      "cell_type": "code",
      "source": [
        "sc = MinMaxScaler(feature_range=(0,1))\n",
        "training_set_scaled = sc.fit_transform(train_set)\n",
        "training_set_scaled.shape"
      ],
      "metadata": {
        "colab": {
          "base_uri": "https://localhost:8080/"
        },
        "id": "Yp9hYvH6IoCW",
        "outputId": "fadbdf14-f577-47a8-de9b-0c0479efab97"
      },
      "execution_count": 7,
      "outputs": [
        {
          "output_type": "execute_result",
          "data": {
            "text/plain": [
              "(1259, 1)"
            ]
          },
          "metadata": {},
          "execution_count": 7
        }
      ]
    },
    {
      "cell_type": "code",
      "source": [
        "X_train_array = []\n",
        "y_train_array = []\n",
        "for i in range(60, 1259):\n",
        "  X_train_array.append(training_set_scaled[i-60:i,0])\n",
        "  y_train_array.append(training_set_scaled[i,0])"
      ],
      "metadata": {
        "id": "0jVbtHzHI1PA"
      },
      "execution_count": 8,
      "outputs": []
    },
    {
      "cell_type": "code",
      "source": [
        "X_train, y_train = np.array(X_train_array), np.array(y_train_array)\n",
        "X_train1 = X_train.reshape((X_train.shape[0], X_train.shape[1],1))\n",
        "X_train.shape"
      ],
      "metadata": {
        "colab": {
          "base_uri": "https://localhost:8080/"
        },
        "id": "FftQBE9nI3oL",
        "outputId": "64627977-8fa1-4528-dc23-06467e43386c"
      },
      "execution_count": 9,
      "outputs": [
        {
          "output_type": "execute_result",
          "data": {
            "text/plain": [
              "(1199, 60)"
            ]
          },
          "metadata": {},
          "execution_count": 9
        }
      ]
    },
    {
      "cell_type": "code",
      "source": [
        "length = 60\n",
        "n_features = 1"
      ],
      "metadata": {
        "id": "67mMKqTZI8KE"
      },
      "execution_count": 10,
      "outputs": []
    },
    {
      "cell_type": "code",
      "source": [
        "model = Sequential()\n",
        "model.add(layers.Bidirectional(layers.SimpleRNN(units=60),input_shape=(length,n_features)))\n",
        "model.add(layers.Dense(1))"
      ],
      "metadata": {
        "id": "Lk_KDpSZJHL2"
      },
      "execution_count": 11,
      "outputs": []
    },
    {
      "cell_type": "code",
      "source": [
        "model.compile(optimizer='adam', loss='mse')"
      ],
      "metadata": {
        "id": "Orz-i6yXJMwO"
      },
      "execution_count": 12,
      "outputs": []
    },
    {
      "cell_type": "code",
      "source": [
        "print(\"Name: KARTHIKEYAN K\\nRegister Number: 212221230046\")\n",
        "model.summary()"
      ],
      "metadata": {
        "colab": {
          "base_uri": "https://localhost:8080/"
        },
        "id": "5hgLKRegJQPp",
        "outputId": "926408d1-9cd6-4687-98fa-2e2bc610bc4d"
      },
      "execution_count": 13,
      "outputs": [
        {
          "output_type": "stream",
          "name": "stdout",
          "text": [
            "Name: KARTHIKEYAN K\n",
            "Register Number: 212221230046\n",
            "Model: \"sequential\"\n",
            "_________________________________________________________________\n",
            " Layer (type)                Output Shape              Param #   \n",
            "=================================================================\n",
            " bidirectional (Bidirection  (None, 120)               7440      \n",
            " al)                                                             \n",
            "                                                                 \n",
            " dense (Dense)               (None, 1)                 121       \n",
            "                                                                 \n",
            "=================================================================\n",
            "Total params: 7561 (29.54 KB)\n",
            "Trainable params: 7561 (29.54 KB)\n",
            "Non-trainable params: 0 (0.00 Byte)\n",
            "_________________________________________________________________\n"
          ]
        }
      ]
    },
    {
      "cell_type": "code",
      "source": [
        "model.fit(X_train1,y_train,epochs=100, batch_size=32)"
      ],
      "metadata": {
        "colab": {
          "base_uri": "https://localhost:8080/"
        },
        "id": "K1ucZDTOJdQj",
        "outputId": "a7daefd6-df00-459c-ef96-68d818fbf76f"
      },
      "execution_count": 14,
      "outputs": [
        {
          "output_type": "stream",
          "name": "stdout",
          "text": [
            "Epoch 1/100\n",
            "38/38 [==============================] - 3s 22ms/step - loss: 0.0268\n",
            "Epoch 2/100\n",
            "38/38 [==============================] - 1s 32ms/step - loss: 0.0026\n",
            "Epoch 3/100\n",
            "38/38 [==============================] - 2s 44ms/step - loss: 0.0021\n",
            "Epoch 4/100\n",
            "38/38 [==============================] - 1s 28ms/step - loss: 0.0014\n",
            "Epoch 5/100\n",
            "38/38 [==============================] - 1s 28ms/step - loss: 0.0012\n",
            "Epoch 6/100\n",
            "38/38 [==============================] - 1s 28ms/step - loss: 9.2866e-04\n",
            "Epoch 7/100\n",
            "38/38 [==============================] - 1s 24ms/step - loss: 8.2177e-04\n",
            "Epoch 8/100\n",
            "38/38 [==============================] - 1s 16ms/step - loss: 8.2191e-04\n",
            "Epoch 9/100\n",
            "38/38 [==============================] - 1s 17ms/step - loss: 6.8904e-04\n",
            "Epoch 10/100\n",
            "38/38 [==============================] - 1s 18ms/step - loss: 5.5396e-04\n",
            "Epoch 11/100\n",
            "38/38 [==============================] - 1s 16ms/step - loss: 5.3012e-04\n",
            "Epoch 12/100\n",
            "38/38 [==============================] - 1s 15ms/step - loss: 6.1180e-04\n",
            "Epoch 13/100\n",
            "38/38 [==============================] - 1s 16ms/step - loss: 5.7684e-04\n",
            "Epoch 14/100\n",
            "38/38 [==============================] - 1s 35ms/step - loss: 4.9093e-04\n",
            "Epoch 15/100\n",
            "38/38 [==============================] - 1s 30ms/step - loss: 5.2484e-04\n",
            "Epoch 16/100\n",
            "38/38 [==============================] - 1s 28ms/step - loss: 4.4794e-04\n",
            "Epoch 17/100\n",
            "38/38 [==============================] - 1s 17ms/step - loss: 4.1949e-04\n",
            "Epoch 18/100\n",
            "38/38 [==============================] - 1s 16ms/step - loss: 4.5822e-04\n",
            "Epoch 19/100\n",
            "38/38 [==============================] - 1s 16ms/step - loss: 4.1463e-04\n",
            "Epoch 20/100\n",
            "38/38 [==============================] - 1s 18ms/step - loss: 4.5158e-04\n",
            "Epoch 21/100\n",
            "38/38 [==============================] - 1s 32ms/step - loss: 4.8191e-04\n",
            "Epoch 22/100\n",
            "38/38 [==============================] - 2s 50ms/step - loss: 3.6044e-04\n",
            "Epoch 23/100\n",
            "38/38 [==============================] - 2s 42ms/step - loss: 4.2673e-04\n",
            "Epoch 24/100\n",
            "38/38 [==============================] - 2s 45ms/step - loss: 3.2569e-04\n",
            "Epoch 25/100\n",
            "38/38 [==============================] - 1s 19ms/step - loss: 3.3816e-04\n",
            "Epoch 26/100\n",
            "38/38 [==============================] - 1s 23ms/step - loss: 4.0339e-04\n",
            "Epoch 27/100\n",
            "38/38 [==============================] - 1s 17ms/step - loss: 3.1059e-04\n",
            "Epoch 28/100\n",
            "38/38 [==============================] - 1s 16ms/step - loss: 3.4129e-04\n",
            "Epoch 29/100\n",
            "38/38 [==============================] - 1s 16ms/step - loss: 3.6883e-04\n",
            "Epoch 30/100\n",
            "38/38 [==============================] - 1s 16ms/step - loss: 2.9005e-04\n",
            "Epoch 31/100\n",
            "38/38 [==============================] - 1s 16ms/step - loss: 3.2965e-04\n",
            "Epoch 32/100\n",
            "38/38 [==============================] - 1s 16ms/step - loss: 3.0753e-04\n",
            "Epoch 33/100\n",
            "38/38 [==============================] - 1s 16ms/step - loss: 3.0377e-04\n",
            "Epoch 34/100\n",
            "38/38 [==============================] - 1s 19ms/step - loss: 2.6833e-04\n",
            "Epoch 35/100\n",
            "38/38 [==============================] - 1s 28ms/step - loss: 3.0718e-04\n",
            "Epoch 36/100\n",
            "38/38 [==============================] - 1s 28ms/step - loss: 3.4000e-04\n",
            "Epoch 37/100\n",
            "38/38 [==============================] - 1s 18ms/step - loss: 3.1672e-04\n",
            "Epoch 38/100\n",
            "38/38 [==============================] - 1s 16ms/step - loss: 3.0787e-04\n",
            "Epoch 39/100\n",
            "38/38 [==============================] - 1s 16ms/step - loss: 2.6782e-04\n",
            "Epoch 40/100\n",
            "38/38 [==============================] - 1s 17ms/step - loss: 2.4402e-04\n",
            "Epoch 41/100\n",
            "38/38 [==============================] - 1s 16ms/step - loss: 2.9639e-04\n",
            "Epoch 42/100\n",
            "38/38 [==============================] - 1s 16ms/step - loss: 2.5659e-04\n",
            "Epoch 43/100\n",
            "38/38 [==============================] - 1s 16ms/step - loss: 3.0599e-04\n",
            "Epoch 44/100\n",
            "38/38 [==============================] - 1s 16ms/step - loss: 2.9873e-04\n",
            "Epoch 45/100\n",
            "38/38 [==============================] - 1s 16ms/step - loss: 2.4520e-04\n",
            "Epoch 46/100\n",
            "38/38 [==============================] - 1s 15ms/step - loss: 2.4428e-04\n",
            "Epoch 47/100\n",
            "38/38 [==============================] - 1s 16ms/step - loss: 2.5905e-04\n",
            "Epoch 48/100\n",
            "38/38 [==============================] - 1s 27ms/step - loss: 2.3003e-04\n",
            "Epoch 49/100\n",
            "38/38 [==============================] - 1s 28ms/step - loss: 2.2564e-04\n",
            "Epoch 50/100\n",
            "38/38 [==============================] - 1s 24ms/step - loss: 2.1857e-04\n",
            "Epoch 51/100\n",
            "38/38 [==============================] - 1s 19ms/step - loss: 2.7640e-04\n",
            "Epoch 52/100\n",
            "38/38 [==============================] - 1s 32ms/step - loss: 2.5814e-04\n",
            "Epoch 53/100\n",
            "38/38 [==============================] - 1s 36ms/step - loss: 2.1953e-04\n",
            "Epoch 54/100\n",
            "38/38 [==============================] - 1s 16ms/step - loss: 2.1132e-04\n",
            "Epoch 55/100\n",
            "38/38 [==============================] - 1s 17ms/step - loss: 2.3479e-04\n",
            "Epoch 56/100\n",
            "38/38 [==============================] - 1s 28ms/step - loss: 2.1900e-04\n",
            "Epoch 57/100\n",
            "38/38 [==============================] - 1s 26ms/step - loss: 2.2882e-04\n",
            "Epoch 58/100\n",
            "38/38 [==============================] - 1s 33ms/step - loss: 2.4384e-04\n",
            "Epoch 59/100\n",
            "38/38 [==============================] - 1s 38ms/step - loss: 1.9882e-04\n",
            "Epoch 60/100\n",
            "38/38 [==============================] - 1s 22ms/step - loss: 2.9454e-04\n",
            "Epoch 61/100\n",
            "38/38 [==============================] - 1s 17ms/step - loss: 2.3216e-04\n",
            "Epoch 62/100\n",
            "38/38 [==============================] - 1s 16ms/step - loss: 2.1924e-04\n",
            "Epoch 63/100\n",
            "38/38 [==============================] - 1s 16ms/step - loss: 2.3498e-04\n",
            "Epoch 64/100\n",
            "38/38 [==============================] - 1s 16ms/step - loss: 2.0973e-04\n",
            "Epoch 65/100\n",
            "38/38 [==============================] - 1s 21ms/step - loss: 2.1136e-04\n",
            "Epoch 66/100\n",
            "38/38 [==============================] - 1s 29ms/step - loss: 2.8507e-04\n",
            "Epoch 67/100\n",
            "38/38 [==============================] - 1s 29ms/step - loss: 2.5264e-04\n",
            "Epoch 68/100\n",
            "38/38 [==============================] - 1s 16ms/step - loss: 2.3876e-04\n",
            "Epoch 69/100\n",
            "38/38 [==============================] - 1s 15ms/step - loss: 1.9374e-04\n",
            "Epoch 70/100\n",
            "38/38 [==============================] - 1s 17ms/step - loss: 1.9076e-04\n",
            "Epoch 71/100\n",
            "38/38 [==============================] - 1s 17ms/step - loss: 2.3097e-04\n",
            "Epoch 72/100\n",
            "38/38 [==============================] - 1s 16ms/step - loss: 2.0637e-04\n",
            "Epoch 73/100\n",
            "38/38 [==============================] - 1s 17ms/step - loss: 1.9941e-04\n",
            "Epoch 74/100\n",
            "38/38 [==============================] - 1s 17ms/step - loss: 1.8332e-04\n",
            "Epoch 75/100\n",
            "38/38 [==============================] - 1s 16ms/step - loss: 2.0666e-04\n",
            "Epoch 76/100\n",
            "38/38 [==============================] - 1s 16ms/step - loss: 2.0530e-04\n",
            "Epoch 77/100\n",
            "38/38 [==============================] - 1s 22ms/step - loss: 1.8436e-04\n",
            "Epoch 78/100\n",
            "38/38 [==============================] - 1s 29ms/step - loss: 1.9404e-04\n",
            "Epoch 79/100\n",
            "38/38 [==============================] - 1s 21ms/step - loss: 2.0697e-04\n",
            "Epoch 80/100\n",
            "38/38 [==============================] - 1s 21ms/step - loss: 2.2096e-04\n",
            "Epoch 81/100\n",
            "38/38 [==============================] - 1s 25ms/step - loss: 1.7091e-04\n",
            "Epoch 82/100\n",
            "38/38 [==============================] - 2s 42ms/step - loss: 1.9465e-04\n",
            "Epoch 83/100\n",
            "38/38 [==============================] - 2s 53ms/step - loss: 2.0679e-04\n",
            "Epoch 84/100\n",
            "38/38 [==============================] - 1s 31ms/step - loss: 2.0019e-04\n",
            "Epoch 85/100\n",
            "38/38 [==============================] - 1s 23ms/step - loss: 1.7814e-04\n",
            "Epoch 86/100\n",
            "38/38 [==============================] - 1s 25ms/step - loss: 1.7755e-04\n",
            "Epoch 87/100\n",
            "38/38 [==============================] - 1s 17ms/step - loss: 2.1199e-04\n",
            "Epoch 88/100\n",
            "38/38 [==============================] - 1s 16ms/step - loss: 2.5092e-04\n",
            "Epoch 89/100\n",
            "38/38 [==============================] - 1s 16ms/step - loss: 1.7162e-04\n",
            "Epoch 90/100\n",
            "38/38 [==============================] - 1s 16ms/step - loss: 2.1809e-04\n",
            "Epoch 91/100\n",
            "38/38 [==============================] - 1s 17ms/step - loss: 1.9094e-04\n",
            "Epoch 92/100\n",
            "38/38 [==============================] - 1s 17ms/step - loss: 2.0185e-04\n",
            "Epoch 93/100\n",
            "38/38 [==============================] - 1s 17ms/step - loss: 2.0887e-04\n",
            "Epoch 94/100\n",
            "38/38 [==============================] - 1s 30ms/step - loss: 1.8252e-04\n",
            "Epoch 95/100\n",
            "38/38 [==============================] - 1s 28ms/step - loss: 1.8626e-04\n",
            "Epoch 96/100\n",
            "38/38 [==============================] - 1s 28ms/step - loss: 1.7619e-04\n",
            "Epoch 97/100\n",
            "38/38 [==============================] - 1s 29ms/step - loss: 1.6993e-04\n",
            "Epoch 98/100\n",
            "38/38 [==============================] - 1s 17ms/step - loss: 1.9628e-04\n",
            "Epoch 99/100\n",
            "38/38 [==============================] - 1s 16ms/step - loss: 1.7844e-04\n",
            "Epoch 100/100\n",
            "38/38 [==============================] - 1s 21ms/step - loss: 1.8134e-04\n"
          ]
        },
        {
          "output_type": "execute_result",
          "data": {
            "text/plain": [
              "<keras.src.callbacks.History at 0x7950c662eb60>"
            ]
          },
          "metadata": {},
          "execution_count": 14
        }
      ]
    },
    {
      "cell_type": "code",
      "source": [
        "dataset_test = pd.read_csv('testset.csv')\n",
        "test_set = dataset_test.iloc[:,1:2].values\n",
        "test_set.shape"
      ],
      "metadata": {
        "colab": {
          "base_uri": "https://localhost:8080/"
        },
        "id": "x4-FPXdEJgNj",
        "outputId": "f8de06a0-8ccf-4d6e-9ba1-01eab3e1d22e"
      },
      "execution_count": 15,
      "outputs": [
        {
          "output_type": "execute_result",
          "data": {
            "text/plain": [
              "(125, 1)"
            ]
          },
          "metadata": {},
          "execution_count": 15
        }
      ]
    },
    {
      "cell_type": "code",
      "source": [
        "dataset_total = pd.concat((dataset_train['Open'],dataset_test['Open']),axis=0)"
      ],
      "metadata": {
        "id": "voi2zWOTJj-U"
      },
      "execution_count": 16,
      "outputs": []
    },
    {
      "cell_type": "code",
      "source": [
        "inputs = dataset_total.values\n",
        "inputs = inputs.reshape(-1,1)\n",
        "inputs_scaled=sc.transform(inputs)\n",
        "X_test = []\n",
        "for i in range(60,1384):\n",
        "  X_test.append(inputs_scaled[i-60:i,0])\n",
        "X_test = np.array(X_test)\n",
        "X_test = np.reshape(X_test,(X_test.shape[0], X_test.shape[1],1))"
      ],
      "metadata": {
        "id": "aeFv-kZeJshg"
      },
      "execution_count": 17,
      "outputs": []
    },
    {
      "cell_type": "code",
      "source": [
        "X_test.shape"
      ],
      "metadata": {
        "colab": {
          "base_uri": "https://localhost:8080/"
        },
        "id": "GvhZvBD0JxUB",
        "outputId": "40d9dae6-c815-434c-dcc3-7be1e1f798e6"
      },
      "execution_count": 18,
      "outputs": [
        {
          "output_type": "execute_result",
          "data": {
            "text/plain": [
              "(1324, 60, 1)"
            ]
          },
          "metadata": {},
          "execution_count": 18
        }
      ]
    },
    {
      "cell_type": "code",
      "source": [
        "predicted_stock_price_scaled = model.predict(X_test)\n",
        "predicted_stock_price = sc.inverse_transform(predicted_stock_price_scaled)"
      ],
      "metadata": {
        "colab": {
          "base_uri": "https://localhost:8080/"
        },
        "id": "olAHxo_oJy07",
        "outputId": "0bedfd91-c539-42eb-ccff-6df4de0da5be"
      },
      "execution_count": 19,
      "outputs": [
        {
          "output_type": "stream",
          "name": "stdout",
          "text": [
            "42/42 [==============================] - 1s 16ms/step\n"
          ]
        }
      ]
    },
    {
      "cell_type": "code",
      "source": [
        "print(\"Name: KARTHIKEYAN K\\nRegister Number: 212221230046\")\n",
        "plt.plot(np.arange(0,1384),inputs, color='red', label = 'Test(Real) Google stock price')\n",
        "plt.plot(np.arange(60,1384),predicted_stock_price, color='blue', label = 'Predicted Google stock price')\n",
        "plt.title('Google Stock Price Prediction')\n",
        "plt.xlabel('Time')\n",
        "plt.ylabel('Google Stock Price')\n",
        "plt.legend()\n",
        "plt.show()"
      ],
      "metadata": {
        "colab": {
          "base_uri": "https://localhost:8080/",
          "height": 507
        },
        "id": "s4NcjDUBKIli",
        "outputId": "dbc03568-0e07-4a36-9685-2085316e4e9d"
      },
      "execution_count": 20,
      "outputs": [
        {
          "output_type": "stream",
          "name": "stdout",
          "text": [
            "Name: KARTHIKEYAN K\n",
            "Register Number: 212221230046\n"
          ]
        },
        {
          "output_type": "display_data",
          "data": {
            "text/plain": [
              "<Figure size 640x480 with 1 Axes>"
            ],
            "image/png": "[encoded data removed]"
          },
          "metadata": {}
        }
      ]
    },
    {
      "cell_type": "code",
      "source": [],
      "metadata": {
        "id": "sSkkdRfdKJLJ"
      },
      "execution_count": null,
      "outputs": []
    }
  ],
  "metadata": {
    "colab": {
      "provenance": []
    },
    "kernelspec": {
      "display_name": "Python 3",
      "name": "python3"
    }
  },
  "nbformat": 4,
  "nbformat_minor": 0
}